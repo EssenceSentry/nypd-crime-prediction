{
 "cells": [
  {
   "cell_type": "code",
   "execution_count": 1,
   "metadata": {},
   "outputs": [
    {
     "name": "stderr",
     "output_type": "stream",
     "text": [
      "/opt/conda/lib/python3.6/site-packages/ipykernel_launcher.py:18: UserWarning: Boolean Series key will be reindexed to match DataFrame index.\n",
      "/opt/conda/lib/python3.6/site-packages/ipykernel_launcher.py:20: UserWarning: Boolean Series key will be reindexed to match DataFrame index.\n"
     ]
    }
   ],
   "source": [
    "import os\n",
    "import numpy as np\n",
    "import pandas as pd\n",
    "\n",
    "raw_data = pd.read_csv(\"../input/rows.csv\",\n",
    "                      usecols=[\"CMPLNT_FR_DT\", \"Latitude\", \"Longitude\"]).dropna()\n",
    "\n",
    "# Data is supposed to start 2006-01-01, filter previous dates\n",
    "day_one = np.datetime64('2006-01-01')\n",
    "days = (pd.to_datetime(raw_data['CMPLNT_FR_DT'], \n",
    "                 format='%m/%d/%Y', errors='coerce') - day_one).dt.days\n",
    "days = days[days.isnull() == False]\n",
    "days = days[days > 0]\n",
    "\n",
    "# Filter outliers\n",
    "rd = raw_data\n",
    "rd = rd[rd['Latitude'] > rd['Latitude'].mean() - 3 * rd['Latitude'].std()]\\\n",
    "                [rd['Latitude'] < rd['Latitude'].mean() + 3 * rd['Latitude'].std()]\n",
    "rd = rd[rd['Longitude'] > rd['Longitude'].mean() - 3 * rd['Longitude'].std()]\\\n",
    "                [rd['Longitude'] < rd['Longitude'].mean() + 3 * rd['Longitude'].std()]\n",
    "\n",
    "# Discretize latitude and longitude\n",
    "min_lat, max_lat = min(rd[\"Latitude\"]), max(rd[\"Latitude\"])\n",
    "min_lng, max_lng = min(rd[\"Longitude\"]), max(rd[\"Longitude\"])\n",
    "GRID_LNG_DIM = 100\n",
    "GRID_LAT_DIM = 120\n",
    "lng_step = (max_lng - min_lng) / (GRID_LNG_DIM - 1)\n",
    "lat_step = (max_lat - min_lat) / (GRID_LAT_DIM - 1)\n",
    "def to_grid_lat(lat):\n",
    "    return (lat - min_lat) // lat_step\n",
    "def to_grid_lng(lng):\n",
    "    return (lng - min_lng) // lng_step\n",
    "\n",
    "# Create final dataset\n",
    "data = pd.DataFrame(rd[\"CMPLNT_FR_DT\"])\n",
    "data[\"Days\"] = days\n",
    "data[\"GridLat\"] = to_grid_lat(rd['Latitude'])\n",
    "data[\"GridLng\"] = to_grid_lng(rd['Longitude'])\n",
    "data = data.dropna()\n",
    "data[\"Days\"] = data[\"Days\"].astype(\"int16\")\n",
    "data[\"GridLat\"] = data[\"GridLat\"].astype(\"int8\")\n",
    "data[\"GridLng\"] = data[\"GridLng\"].astype(\"int8\")\n",
    "# To split the validation set to the most recent crimes\n",
    "data.sort_values(by=[\"Days\"])\n",
    "\n",
    "\n",
    "\n",
    "# We create a (4748, 101, 121) boolean array to track if in a specific day and place there was a crime\n",
    "crime_grid = np.zeros((max(data[\"Days\"]) + 1, GRID_LNG_DIM + 1, GRID_LAT_DIM + 1), dtype=\"bool\")\n",
    "crime_grid[data[\"Days\"], data[\"GridLng\"], data[\"GridLat\"]] = True"
   ]
  },
  {
   "cell_type": "code",
   "execution_count": 2,
   "metadata": {},
   "outputs": [],
   "source": [
    "index = np.arange(1,31)[None, :] + np.arange(4718)[:, None]\n",
    "x = crime_grid[index]\n",
    "X = x[:, :29, :, :, None]\n",
    "y = x[:, 29, :, :, None]\n",
    "\n",
    "from sklearn.model_selection import train_test_split\n",
    "\n",
    "X_train, X_test, y_train, y_test = train_test_split(X, y, test_size=0.2, shuffle=True)"
   ]
  },
  {
   "cell_type": "code",
   "execution_count": 3,
   "metadata": {},
   "outputs": [
    {
     "data": {
      "text/plain": [
       "(3774, 29, 101, 121, 1)"
      ]
     },
     "execution_count": 3,
     "metadata": {},
     "output_type": "execute_result"
    }
   ],
   "source": [
    "X_train.shape"
   ]
  },
  {
   "cell_type": "code",
   "execution_count": 4,
   "metadata": {},
   "outputs": [
    {
     "name": "stderr",
     "output_type": "stream",
     "text": [
      "Using TensorFlow backend.\n"
     ]
    },
    {
     "name": "stdout",
     "output_type": "stream",
     "text": [
      "Train on 3774 samples, validate on 944 samples\n",
      "Epoch 1/20\n",
      "3774/3774 [==============================] - 25s 7ms/step - loss: 0.0880 - acc: 0.9247 - val_loss: 0.0735 - val_acc: 0.9250\n",
      "\n",
      "Epoch 00001: val_acc improved from -inf to 0.92498, saving model to /kaggle/working/saved_models/crime_prediction.001.h5\n",
      "Epoch 2/20\n",
      "3774/3774 [==============================] - 19s 5ms/step - loss: 0.0703 - acc: 0.9249 - val_loss: 0.0676 - val_acc: 0.9250\n",
      "\n",
      "Epoch 00002: val_acc improved from 0.92498 to 0.92498, saving model to /kaggle/working/saved_models/crime_prediction.002.h5\n",
      "Epoch 3/20\n",
      "3774/3774 [==============================] - 19s 5ms/step - loss: 0.0660 - acc: 0.9249 - val_loss: 0.0644 - val_acc: 0.9250\n",
      "\n",
      "Epoch 00003: val_acc did not improve from 0.92498\n",
      "Epoch 4/20\n",
      "3774/3774 [==============================] - 19s 5ms/step - loss: 0.0634 - acc: 0.9249 - val_loss: 0.0623 - val_acc: 0.9250\n",
      "\n",
      "Epoch 00004: val_acc did not improve from 0.92498\n",
      "Epoch 5/20\n",
      "3774/3774 [==============================] - 19s 5ms/step - loss: 0.0616 - acc: 0.9249 - val_loss: 0.0607 - val_acc: 0.9250\n",
      "\n",
      "Epoch 00005: val_acc improved from 0.92498 to 0.92498, saving model to /kaggle/working/saved_models/crime_prediction.005.h5\n",
      "Epoch 6/20\n",
      "3774/3774 [==============================] - 19s 5ms/step - loss: 0.0602 - acc: 0.9249 - val_loss: 0.0595 - val_acc: 0.9250\n",
      "\n",
      "Epoch 00006: val_acc improved from 0.92498 to 0.92501, saving model to /kaggle/working/saved_models/crime_prediction.006.h5\n",
      "Epoch 7/20\n",
      "3774/3774 [==============================] - 19s 5ms/step - loss: 0.0590 - acc: 0.9250 - val_loss: 0.0584 - val_acc: 0.9251\n",
      "\n",
      "Epoch 00007: val_acc improved from 0.92501 to 0.92511, saving model to /kaggle/working/saved_models/crime_prediction.007.h5\n",
      "Epoch 8/20\n",
      "3774/3774 [==============================] - 19s 5ms/step - loss: 0.0581 - acc: 0.9251 - val_loss: 0.0576 - val_acc: 0.9253\n",
      "\n",
      "Epoch 00008: val_acc improved from 0.92511 to 0.92526, saving model to /kaggle/working/saved_models/crime_prediction.008.h5\n",
      "Epoch 9/20\n",
      "3774/3774 [==============================] - 19s 5ms/step - loss: 0.0573 - acc: 0.9253 - val_loss: 0.0569 - val_acc: 0.9255\n",
      "\n",
      "Epoch 00009: val_acc improved from 0.92526 to 0.92548, saving model to /kaggle/working/saved_models/crime_prediction.009.h5\n",
      "Epoch 10/20\n",
      "3774/3774 [==============================] - 19s 5ms/step - loss: 0.0566 - acc: 0.9255 - val_loss: 0.0562 - val_acc: 0.9258\n",
      "\n",
      "Epoch 00010: val_acc improved from 0.92548 to 0.92576, saving model to /kaggle/working/saved_models/crime_prediction.010.h5\n",
      "Epoch 11/20\n",
      "3774/3774 [==============================] - 19s 5ms/step - loss: 0.0560 - acc: 0.9258 - val_loss: 0.0557 - val_acc: 0.9261\n",
      "\n",
      "Epoch 00011: val_acc improved from 0.92576 to 0.92605, saving model to /kaggle/working/saved_models/crime_prediction.011.h5\n",
      "Epoch 12/20\n",
      "3774/3774 [==============================] - 19s 5ms/step - loss: 0.0555 - acc: 0.9261 - val_loss: 0.0552 - val_acc: 0.9263\n",
      "\n",
      "Epoch 00012: val_acc improved from 0.92605 to 0.92633, saving model to /kaggle/working/saved_models/crime_prediction.012.h5\n",
      "Epoch 13/20\n",
      "3774/3774 [==============================] - 19s 5ms/step - loss: 0.0550 - acc: 0.9264 - val_loss: 0.0547 - val_acc: 0.9266\n",
      "\n",
      "Epoch 00013: val_acc improved from 0.92633 to 0.92662, saving model to /kaggle/working/saved_models/crime_prediction.013.h5\n",
      "Epoch 14/20\n",
      "3774/3774 [==============================] - 19s 5ms/step - loss: 0.0546 - acc: 0.9267 - val_loss: 0.0543 - val_acc: 0.9269\n",
      "\n",
      "Epoch 00014: val_acc improved from 0.92662 to 0.92688, saving model to /kaggle/working/saved_models/crime_prediction.014.h5\n",
      "Epoch 15/20\n",
      "3774/3774 [==============================] - 19s 5ms/step - loss: 0.0542 - acc: 0.9269 - val_loss: 0.0539 - val_acc: 0.9271\n",
      "\n",
      "Epoch 00015: val_acc improved from 0.92688 to 0.92715, saving model to /kaggle/working/saved_models/crime_prediction.015.h5\n",
      "Epoch 16/20\n",
      "3774/3774 [==============================] - 19s 5ms/step - loss: 0.0538 - acc: 0.9272 - val_loss: 0.0535 - val_acc: 0.9274\n",
      "\n",
      "Epoch 00016: val_acc improved from 0.92715 to 0.92744, saving model to /kaggle/working/saved_models/crime_prediction.016.h5\n",
      "Epoch 17/20\n",
      "3774/3774 [==============================] - 19s 5ms/step - loss: 0.0535 - acc: 0.9275 - val_loss: 0.0532 - val_acc: 0.9277\n",
      "\n",
      "Epoch 00017: val_acc improved from 0.92744 to 0.92772, saving model to /kaggle/working/saved_models/crime_prediction.017.h5\n",
      "Epoch 18/20\n",
      "3774/3774 [==============================] - 19s 5ms/step - loss: 0.0531 - acc: 0.9277 - val_loss: 0.0529 - val_acc: 0.9280\n",
      "\n",
      "Epoch 00018: val_acc improved from 0.92772 to 0.92799, saving model to /kaggle/working/saved_models/crime_prediction.018.h5\n",
      "Epoch 19/20\n",
      "3774/3774 [==============================] - 19s 5ms/step - loss: 0.0528 - acc: 0.9280 - val_loss: 0.0526 - val_acc: 0.9283\n",
      "\n",
      "Epoch 00019: val_acc improved from 0.92799 to 0.92825, saving model to /kaggle/working/saved_models/crime_prediction.019.h5\n",
      "Epoch 20/20\n",
      "3774/3774 [==============================] - 19s 5ms/step - loss: 0.0526 - acc: 0.9283 - val_loss: 0.0524 - val_acc: 0.9285\n",
      "\n",
      "Epoch 00020: val_acc improved from 0.92825 to 0.92851, saving model to /kaggle/working/saved_models/crime_prediction.020.h5\n",
      "_________________________________________________________________\n",
      "Layer (type)                 Output Shape              Param #   \n",
      "=================================================================\n",
      "conv_lst_m2d_1 (ConvLSTM2D)  (None, 101, 121, 1)       76        \n",
      "=================================================================\n",
      "Total params: 76\n",
      "Trainable params: 76\n",
      "Non-trainable params: 0\n",
      "_________________________________________________________________\n",
      "944/944 [==============================] - 3s 3ms/step\n",
      "Test loss: 0.052367245368028094\n",
      "Test accuracy: 0.928509333376157\n"
     ]
    }
   ],
   "source": [
    "from keras.models import Sequential\n",
    "from keras.layers import ConvLSTM2D\n",
    "from keras.callbacks import ModelCheckpoint, ReduceLROnPlateau\n",
    "from keras.optimizers import Adam\n",
    "from keras.models import Model\n",
    "\n",
    "\n",
    "model = Sequential()\n",
    "model.add(ConvLSTM2D(1, kernel_size=(3, 3), activation='tanh', recurrent_activation='hard_sigmoid', \n",
    "                        kernel_initializer='glorot_uniform', recurrent_initializer='orthogonal',\n",
    "                        kernel_constraint=None, recurrent_constraint=None, bias_constraint=None, \n",
    "                        return_sequences=False,\n",
    "                        padding='same',\n",
    "                        data_format='channels_last',\n",
    "                        dropout=0.0, recurrent_dropout=0.0))\n",
    "\n",
    "model.compile(optimizer=Adam(decay=1e-4),\n",
    "              loss='mean_squared_error',\n",
    "              metrics=['accuracy'])\n",
    "\n",
    "# Prepare model model saving directory.\n",
    "save_dir = os.path.join(os.getcwd(), 'saved_models')\n",
    "model_name = 'crime_prediction.{epoch:03d}.h5'\n",
    "if not os.path.isdir(save_dir):\n",
    "    os.makedirs(save_dir)\n",
    "filepath = os.path.join(save_dir, model_name)\n",
    "\n",
    "# Prepare callbacks for model saving and for learning rate adjustment.\n",
    "checkpoint = ModelCheckpoint(filepath=filepath,\n",
    "                             monitor='val_acc',\n",
    "                             verbose=1,\n",
    "                             save_best_only=True)\n",
    "\n",
    "lr_reducer = ReduceLROnPlateau(factor=np.sqrt(0.1),\n",
    "                               cooldown=0,\n",
    "                               patience=5,\n",
    "                               min_lr=0.5e-6)\n",
    "\n",
    "callbacks = [checkpoint, lr_reducer]\n",
    "\n",
    "model.fit(X_train, y_train,\n",
    "          batch_size=120,\n",
    "          epochs=20,\n",
    "          validation_data=(X_test, y_test),\n",
    "          shuffle=True,\n",
    "          callbacks=callbacks)\n",
    "\n",
    "model.summary()\n",
    "\n",
    "from keras.utils import plot_model\n",
    "plot_model(model, to_file='model.png')\n",
    "\n",
    "# Score trained model.\n",
    "scores = model.evaluate(X_test, y_test, verbose=1)\n",
    "print('Test loss:', scores[0])\n",
    "print('Test accuracy:', scores[1])"
   ]
  },
  {
   "cell_type": "code",
   "execution_count": 5,
   "metadata": {},
   "outputs": [
    {
     "data": {
      "text/plain": [
       "array([[False, False, False, ..., False, False, False],\n",
       "       [False, False, False, ..., False, False, False],\n",
       "       [False, False, False, ..., False, False, False],\n",
       "       ...,\n",
       "       [False, False, False, ..., False, False, False],\n",
       "       [False, False, False, ..., False, False, False],\n",
       "       [False, False, False, ..., False, False, False]])"
      ]
     },
     "execution_count": 5,
     "metadata": {},
     "output_type": "execute_result"
    }
   ],
   "source": [
    "y_test[0][:,:,0]"
   ]
  },
  {
   "cell_type": "code",
   "execution_count": 6,
   "metadata": {},
   "outputs": [
    {
     "data": {
      "text/plain": [
       "<matplotlib.image.AxesImage at 0x7f30acee0978>"
      ]
     },
     "execution_count": 6,
     "metadata": {},
     "output_type": "execute_result"
    },
    {
     "data": {
      "image/png": "[encoded data removed]",
      "text/plain": [
       "<Figure size 432x288 with 1 Axes>"
      ]
     },
     "metadata": {
      "needs_background": "light"
     },
     "output_type": "display_data"
    }
   ],
   "source": [
    "import matplotlib.pyplot as plt\n",
    "import seaborn as sns\n",
    "\n",
    "r = y_test[0][:,:,0]\n",
    "p = np.round(model.predict(X_test[:2]), decimals=0)[0][:, :, 0]\n",
    "\n",
    "plt.imshow(r)"
   ]
  },
  {
   "cell_type": "code",
   "execution_count": 7,
   "metadata": {},
   "outputs": [
    {
     "data": {
      "text/plain": [
       "<matplotlib.image.AxesImage at 0x7f30acdf6940>"
      ]
     },
     "execution_count": 7,
     "metadata": {},
     "output_type": "execute_result"
    },
    {
     "data": {
      "image/png": "[encoded data removed]",
      "text/plain": [
       "<Figure size 432x288 with 1 Axes>"
      ]
     },
     "metadata": {
      "needs_background": "light"
     },
     "output_type": "display_data"
    }
   ],
   "source": [
    "plt.imshow(p)"
   ]
  },
  {
   "cell_type": "code",
   "execution_count": 8,
   "metadata": {},
   "outputs": [
    {
     "data": {
      "text/plain": [
       "<matplotlib.image.AxesImage at 0x7f30ad182048>"
      ]
     },
     "execution_count": 8,
     "metadata": {},
     "output_type": "execute_result"
    },
    {
     "data": {
      "image/png": "[encoded data removed]",
      "text/plain": [
       "<Figure size 432x288 with 1 Axes>"
      ]
     },
     "metadata": {
      "needs_background": "light"
     },
     "output_type": "display_data"
    }
   ],
   "source": [
    "r110 = y_test[110][:, :, 0]\n",
    "p110 = np.round(model.predict(X_test[:900]), decimals=0)[110][:, :, 0]\n",
    "\n",
    "plt.imshow(r110)"
   ]
  },
  {
   "cell_type": "code",
   "execution_count": 9,
   "metadata": {},
   "outputs": [
    {
     "data": {
      "text/plain": [
       "<matplotlib.image.AxesImage at 0x7f30acda1898>"
      ]
     },
     "execution_count": 9,
     "metadata": {},
     "output_type": "execute_result"
    },
    {
     "data": {
      "image/png": "[encoded data removed]",
      "text/plain": [
       "<Figure size 432x288 with 1 Axes>"
      ]
     },
     "metadata": {
      "needs_background": "light"
     },
     "output_type": "display_data"
    }
   ],
   "source": [
    "plt.imshow(p110)"
   ]
  }
 ],
 "metadata": {
  "kernelspec": {
   "display_name": "Python 3",
   "language": "python",
   "name": "python3"
  },
  "language_info": {
   "codemirror_mode": {
    "name": "ipython",
    "version": 3
   },
   "file_extension": ".py",
   "mimetype": "text/x-python",
   "name": "python",
   "nbconvert_exporter": "python",
   "pygments_lexer": "ipython3",
   "version": "3.6.6"
  }
 },
 "nbformat": 4,
 "nbformat_minor": 1
}
